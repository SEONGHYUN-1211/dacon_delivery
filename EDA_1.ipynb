{
 "cells": [
  {
   "cell_type": "code",
   "execution_count": 1,
   "metadata": {},
   "outputs": [],
   "source": [
    "import numpy as np\n",
    "import pandas as pd\n",
    "\n",
    "import matplotlib.pyplot as plt\n",
    "from matplotlib import font_manager, rc\n",
    "font_path = \"C:/Windows/Fonts/NGULIM.TTF\"\n",
    "font = font_manager.FontProperties(fname=font_path).get_name()\n",
    "rc('font', family=font)\n",
    "\n",
    "pd.set_option('display.max_columns', None)"
   ]
  },
  {
   "cell_type": "code",
   "execution_count": 4,
   "metadata": {},
   "outputs": [
    {
     "name": "stderr",
     "output_type": "stream",
     "text": [
      "C:\\Users\\ASUX\\anaconda3\\lib\\site-packages\\IPython\\core\\interactiveshell.py:3418: DtypeWarning: Columns (19) have mixed types.Specify dtype option on import or set low_memory=False.\n",
      "  exec(code_obj, self.user_global_ns, self.user_ns)\n"
     ]
    }
   ],
   "source": [
    "df_deliver = pd.read_csv(\"./KT_빅데이터플랫폼_데이터셋/dlvr_call.csv\", low_memory=False)"
   ]
  },
  {
   "cell_type": "code",
   "execution_count": 6,
   "metadata": {},
   "outputs": [],
   "source": [
    "df_people = pd.read_csv(\"./KT_빅데이터플랫폼_데이터셋/popl.csv\", low_memory=False)"
   ]
  },
  {
   "cell_type": "code",
   "execution_count": 7,
   "metadata": {},
   "outputs": [],
   "source": [
    "df_close_shop = pd.read_csv(\"./KT_빅데이터플랫폼_데이터셋/StartupOrClosing_Shop_ver2.csv\")\n",
    "df_close_region = pd.read_csv(\"./KT_빅데이터플랫폼_데이터셋/StartupOrClosing_Region_ver2.csv\")"
   ]
  },
  {
   "cell_type": "code",
   "execution_count": 18,
   "metadata": {},
   "outputs": [
    {
     "data": {
      "text/html": [
       "<div>\n",
       "<style scoped>\n",
       "    .dataframe tbody tr th:only-of-type {\n",
       "        vertical-align: middle;\n",
       "    }\n",
       "\n",
       "    .dataframe tbody tr th {\n",
       "        vertical-align: top;\n",
       "    }\n",
       "\n",
       "    .dataframe thead th {\n",
       "        text-align: right;\n",
       "    }\n",
       "</style>\n",
       "<table border=\"1\" class=\"dataframe\">\n",
       "  <thead>\n",
       "    <tr style=\"text-align: right;\">\n",
       "      <th></th>\n",
       "      <th>SN</th>\n",
       "      <th>PROCESS_DT</th>\n",
       "      <th>DLVR_REQUST_ENTRPS_ID</th>\n",
       "      <th>DLVR_REQUST_STTUS_VALUE</th>\n",
       "      <th>DLVR_RCEPT_ENTRPS_ID</th>\n",
       "      <th>DLVR_STORE_ID</th>\n",
       "      <th>DLVR_STORE_INDUTY_NM</th>\n",
       "      <th>DLVR_STORE_LEGALDONG_CODE</th>\n",
       "      <th>DLVR_STORE_BRTC_NM</th>\n",
       "      <th>DLVR_STORE_SIGNGU_NM</th>\n",
       "      <th>DLVR_STORE_LEGALDONG_NM</th>\n",
       "      <th>DLVR_STORE_LI_NM</th>\n",
       "      <th>DLVR_STORE_ADSTRD_CODE</th>\n",
       "      <th>DLVR_STORE_RDNMADR_CODE</th>\n",
       "      <th>DLVR_DSTN_LEGALDONG_CODE</th>\n",
       "      <th>DLVR_DSTN_BRTC_NM</th>\n",
       "      <th>DLVR_DSTN_SIGNGU_NM</th>\n",
       "      <th>DLVR_DSTN_LEGALDONG_NM</th>\n",
       "      <th>DLVR_DSTN_LI_NM</th>\n",
       "      <th>DLVR_DSTN_ADSTRD_CODE</th>\n",
       "      <th>DLVR_DSTN_RDNMADR_CODE</th>\n",
       "      <th>DLVR_MAN_ID</th>\n",
       "      <th>DLVR_AMOUNT</th>\n",
       "      <th>CALL_RLAY_FEE_AMOUNT</th>\n",
       "      <th>GOODS_AMOUNT</th>\n",
       "      <th>SETLE_KND_VALUE</th>\n",
       "      <th>SETLE_CARD_NM</th>\n",
       "      <th>DLVR_RCEPT_TIME</th>\n",
       "      <th>DLVR_CARALC_TIME</th>\n",
       "      <th>DLVR_RECPT_TIME</th>\n",
       "      <th>DLVR_COMPT_TIME</th>\n",
       "      <th>DLVR_CANCL_TIME</th>\n",
       "    </tr>\n",
       "  </thead>\n",
       "  <tbody>\n",
       "    <tr>\n",
       "      <th>0</th>\n",
       "      <td>3486929</td>\n",
       "      <td>2019-12-01</td>\n",
       "      <td>C000101</td>\n",
       "      <td>1</td>\n",
       "      <td>C000101</td>\n",
       "      <td>S0021950</td>\n",
       "      <td>족발/보쌈</td>\n",
       "      <td>1156013200</td>\n",
       "      <td>서울특별시</td>\n",
       "      <td>영등포구</td>\n",
       "      <td>신길동</td>\n",
       "      <td>\\N</td>\n",
       "      <td>1156066000</td>\n",
       "      <td>115603000023</td>\n",
       "      <td>1159010800</td>\n",
       "      <td>서울특별시</td>\n",
       "      <td>동작구</td>\n",
       "      <td>대방동</td>\n",
       "      <td>\\N</td>\n",
       "      <td>1159066000</td>\n",
       "      <td>115904157098</td>\n",
       "      <td>D0006140</td>\n",
       "      <td>3300</td>\n",
       "      <td>200</td>\n",
       "      <td>18000</td>\n",
       "      <td>1</td>\n",
       "      <td>승인:KB국민카드</td>\n",
       "      <td>2019-12-01 20:47:52</td>\n",
       "      <td>2019-12-01 20:48:11</td>\n",
       "      <td>2019-12-01 20:55:33</td>\n",
       "      <td>2019-12-01 21:00:15</td>\n",
       "      <td>\\N</td>\n",
       "    </tr>\n",
       "    <tr>\n",
       "      <th>1</th>\n",
       "      <td>3486930</td>\n",
       "      <td>2019-12-01</td>\n",
       "      <td>C000099</td>\n",
       "      <td>1</td>\n",
       "      <td>C000099</td>\n",
       "      <td>S0039210</td>\n",
       "      <td>치킨</td>\n",
       "      <td>4128510200</td>\n",
       "      <td>경기도</td>\n",
       "      <td>고양시 일산동구</td>\n",
       "      <td>중산동</td>\n",
       "      <td>\\N</td>\n",
       "      <td>4128552000</td>\n",
       "      <td>412854379205</td>\n",
       "      <td>4128510200</td>\n",
       "      <td>경기도</td>\n",
       "      <td>고양시 일산동구</td>\n",
       "      <td>중산동</td>\n",
       "      <td>\\N</td>\n",
       "      <td>4128552000</td>\n",
       "      <td>412853193037</td>\n",
       "      <td>D0005898</td>\n",
       "      <td>2900</td>\n",
       "      <td>0</td>\n",
       "      <td>21900</td>\n",
       "      <td>1</td>\n",
       "      <td>승인:현대카드사</td>\n",
       "      <td>2019-12-01 21:58:07</td>\n",
       "      <td>2019-12-01 22:01:06</td>\n",
       "      <td>2019-12-01 22:20:53</td>\n",
       "      <td>2019-12-01 22:26:01</td>\n",
       "      <td>\\N</td>\n",
       "    </tr>\n",
       "    <tr>\n",
       "      <th>2</th>\n",
       "      <td>3486932</td>\n",
       "      <td>2019-12-01</td>\n",
       "      <td>C000029</td>\n",
       "      <td>1</td>\n",
       "      <td>C000043</td>\n",
       "      <td>S0036135</td>\n",
       "      <td>치킨</td>\n",
       "      <td>4115010100</td>\n",
       "      <td>경기도</td>\n",
       "      <td>의정부시</td>\n",
       "      <td>의정부동</td>\n",
       "      <td>\\N</td>\n",
       "      <td>4115051000</td>\n",
       "      <td>411504343421</td>\n",
       "      <td>4115011100</td>\n",
       "      <td>경기도</td>\n",
       "      <td>의정부시</td>\n",
       "      <td>녹양동</td>\n",
       "      <td>\\N</td>\n",
       "      <td>4115062000</td>\n",
       "      <td>411504343083</td>\n",
       "      <td>D0000864</td>\n",
       "      <td>3500</td>\n",
       "      <td>200</td>\n",
       "      <td>19500</td>\n",
       "      <td>2</td>\n",
       "      <td>NaN</td>\n",
       "      <td>2019-12-01 22:20:31</td>\n",
       "      <td>2019-12-01 22:37:45</td>\n",
       "      <td>2019-12-01 22:58:27</td>\n",
       "      <td>2019-12-01 22:58:32</td>\n",
       "      <td>\\N</td>\n",
       "    </tr>\n",
       "    <tr>\n",
       "      <th>3</th>\n",
       "      <td>3486933</td>\n",
       "      <td>2019-12-01</td>\n",
       "      <td>C000105</td>\n",
       "      <td>1</td>\n",
       "      <td>C000105</td>\n",
       "      <td>S0039956</td>\n",
       "      <td>돈까스/일식</td>\n",
       "      <td>4128510400</td>\n",
       "      <td>경기도</td>\n",
       "      <td>고양시 일산동구</td>\n",
       "      <td>장항동</td>\n",
       "      <td>\\N</td>\n",
       "      <td>4128559000</td>\n",
       "      <td>412854379097</td>\n",
       "      <td>4128510500</td>\n",
       "      <td>경기도</td>\n",
       "      <td>고양시 일산동구</td>\n",
       "      <td>마두동</td>\n",
       "      <td>\\N</td>\n",
       "      <td>4128556000</td>\n",
       "      <td>412854379158</td>\n",
       "      <td>D0001526</td>\n",
       "      <td>3500</td>\n",
       "      <td>0</td>\n",
       "      <td>18000</td>\n",
       "      <td>2</td>\n",
       "      <td>NaN</td>\n",
       "      <td>2019-12-01 21:40:39</td>\n",
       "      <td>2019-12-01 21:48:41</td>\n",
       "      <td>2019-12-01 22:06:35</td>\n",
       "      <td>2019-12-01 22:17:57</td>\n",
       "      <td>\\N</td>\n",
       "    </tr>\n",
       "    <tr>\n",
       "      <th>4</th>\n",
       "      <td>3486934</td>\n",
       "      <td>2019-12-01</td>\n",
       "      <td>C000028</td>\n",
       "      <td>1</td>\n",
       "      <td>C000043</td>\n",
       "      <td>S0003074</td>\n",
       "      <td>치킨</td>\n",
       "      <td>4115010900</td>\n",
       "      <td>경기도</td>\n",
       "      <td>의정부시</td>\n",
       "      <td>금오동</td>\n",
       "      <td>\\N</td>\n",
       "      <td>4115058000</td>\n",
       "      <td>411504343342</td>\n",
       "      <td>4115010900</td>\n",
       "      <td>경기도</td>\n",
       "      <td>의정부시</td>\n",
       "      <td>금오동</td>\n",
       "      <td>\\N</td>\n",
       "      <td>4115058000</td>\n",
       "      <td>411503181019</td>\n",
       "      <td>D0000986</td>\n",
       "      <td>3500</td>\n",
       "      <td>200</td>\n",
       "      <td>18000</td>\n",
       "      <td>3</td>\n",
       "      <td>NaN</td>\n",
       "      <td>2019-12-01 19:44:37</td>\n",
       "      <td>2019-12-01 19:48:07</td>\n",
       "      <td>2019-12-01 19:54:30</td>\n",
       "      <td>2019-12-01 20:00:22</td>\n",
       "      <td>\\N</td>\n",
       "    </tr>\n",
       "  </tbody>\n",
       "</table>\n",
       "</div>"
      ],
      "text/plain": [
       "        SN  PROCESS_DT DLVR_REQUST_ENTRPS_ID  DLVR_REQUST_STTUS_VALUE  \\\n",
       "0  3486929  2019-12-01               C000101                        1   \n",
       "1  3486930  2019-12-01               C000099                        1   \n",
       "2  3486932  2019-12-01               C000029                        1   \n",
       "3  3486933  2019-12-01               C000105                        1   \n",
       "4  3486934  2019-12-01               C000028                        1   \n",
       "\n",
       "  DLVR_RCEPT_ENTRPS_ID DLVR_STORE_ID DLVR_STORE_INDUTY_NM  \\\n",
       "0              C000101      S0021950                족발/보쌈   \n",
       "1              C000099      S0039210                   치킨   \n",
       "2              C000043      S0036135                   치킨   \n",
       "3              C000105      S0039956               돈까스/일식   \n",
       "4              C000043      S0003074                   치킨   \n",
       "\n",
       "   DLVR_STORE_LEGALDONG_CODE DLVR_STORE_BRTC_NM DLVR_STORE_SIGNGU_NM  \\\n",
       "0                 1156013200              서울특별시                 영등포구   \n",
       "1                 4128510200                경기도             고양시 일산동구   \n",
       "2                 4115010100                경기도                 의정부시   \n",
       "3                 4128510400                경기도             고양시 일산동구   \n",
       "4                 4115010900                경기도                 의정부시   \n",
       "\n",
       "  DLVR_STORE_LEGALDONG_NM DLVR_STORE_LI_NM  DLVR_STORE_ADSTRD_CODE  \\\n",
       "0                     신길동               \\N              1156066000   \n",
       "1                     중산동               \\N              4128552000   \n",
       "2                    의정부동               \\N              4115051000   \n",
       "3                     장항동               \\N              4128559000   \n",
       "4                     금오동               \\N              4115058000   \n",
       "\n",
       "  DLVR_STORE_RDNMADR_CODE  DLVR_DSTN_LEGALDONG_CODE DLVR_DSTN_BRTC_NM  \\\n",
       "0            115603000023                1159010800             서울특별시   \n",
       "1            412854379205                4128510200               경기도   \n",
       "2            411504343421                4115011100               경기도   \n",
       "3            412854379097                4128510500               경기도   \n",
       "4            411504343342                4115010900               경기도   \n",
       "\n",
       "  DLVR_DSTN_SIGNGU_NM DLVR_DSTN_LEGALDONG_NM DLVR_DSTN_LI_NM  \\\n",
       "0                 동작구                    대방동              \\N   \n",
       "1            고양시 일산동구                    중산동              \\N   \n",
       "2                의정부시                    녹양동              \\N   \n",
       "3            고양시 일산동구                    마두동              \\N   \n",
       "4                의정부시                    금오동              \\N   \n",
       "\n",
       "  DLVR_DSTN_ADSTRD_CODE DLVR_DSTN_RDNMADR_CODE DLVR_MAN_ID  DLVR_AMOUNT  \\\n",
       "0            1159066000           115904157098    D0006140         3300   \n",
       "1            4128552000           412853193037    D0005898         2900   \n",
       "2            4115062000           411504343083    D0000864         3500   \n",
       "3            4128556000           412854379158    D0001526         3500   \n",
       "4            4115058000           411503181019    D0000986         3500   \n",
       "\n",
       "   CALL_RLAY_FEE_AMOUNT  GOODS_AMOUNT  SETLE_KND_VALUE SETLE_CARD_NM  \\\n",
       "0                   200         18000                1     승인:KB국민카드   \n",
       "1                     0         21900                1      승인:현대카드사   \n",
       "2                   200         19500                2           NaN   \n",
       "3                     0         18000                2           NaN   \n",
       "4                   200         18000                3           NaN   \n",
       "\n",
       "       DLVR_RCEPT_TIME     DLVR_CARALC_TIME      DLVR_RECPT_TIME  \\\n",
       "0  2019-12-01 20:47:52  2019-12-01 20:48:11  2019-12-01 20:55:33   \n",
       "1  2019-12-01 21:58:07  2019-12-01 22:01:06  2019-12-01 22:20:53   \n",
       "2  2019-12-01 22:20:31  2019-12-01 22:37:45  2019-12-01 22:58:27   \n",
       "3  2019-12-01 21:40:39  2019-12-01 21:48:41  2019-12-01 22:06:35   \n",
       "4  2019-12-01 19:44:37  2019-12-01 19:48:07  2019-12-01 19:54:30   \n",
       "\n",
       "       DLVR_COMPT_TIME DLVR_CANCL_TIME  \n",
       "0  2019-12-01 21:00:15              \\N  \n",
       "1  2019-12-01 22:26:01              \\N  \n",
       "2  2019-12-01 22:58:32              \\N  \n",
       "3  2019-12-01 22:17:57              \\N  \n",
       "4  2019-12-01 20:00:22              \\N  "
      ]
     },
     "execution_count": 18,
     "metadata": {},
     "output_type": "execute_result"
    }
   ],
   "source": [
    "df_deliver.head()"
   ]
  },
  {
   "cell_type": "code",
   "execution_count": 13,
   "metadata": {
    "scrolled": false
   },
   "outputs": [
    {
     "data": {
      "text/plain": [
       "SN                                 0\n",
       "PROCESS_DT                         0\n",
       "DLVR_REQUST_ENTRPS_ID              0\n",
       "DLVR_REQUST_STTUS_VALUE            0\n",
       "DLVR_RCEPT_ENTRPS_ID               0\n",
       "DLVR_STORE_ID                      0\n",
       "DLVR_STORE_INDUTY_NM               0\n",
       "DLVR_STORE_LEGALDONG_CODE          0\n",
       "DLVR_STORE_BRTC_NM                 0\n",
       "DLVR_STORE_SIGNGU_NM               0\n",
       "DLVR_STORE_LEGALDONG_NM            0\n",
       "DLVR_STORE_LI_NM                   0\n",
       "DLVR_STORE_ADSTRD_CODE             0\n",
       "DLVR_STORE_RDNMADR_CODE            0\n",
       "DLVR_DSTN_LEGALDONG_CODE           0\n",
       "DLVR_DSTN_BRTC_NM                  0\n",
       "DLVR_DSTN_SIGNGU_NM                0\n",
       "DLVR_DSTN_LEGALDONG_NM             0\n",
       "DLVR_DSTN_LI_NM                    0\n",
       "DLVR_DSTN_ADSTRD_CODE              0\n",
       "DLVR_DSTN_RDNMADR_CODE             0\n",
       "DLVR_MAN_ID                        0\n",
       "DLVR_AMOUNT                        0\n",
       "CALL_RLAY_FEE_AMOUNT               0\n",
       "GOODS_AMOUNT                       0\n",
       "SETLE_KND_VALUE                    0\n",
       "SETLE_CARD_NM                3177885\n",
       "DLVR_RCEPT_TIME                    0\n",
       "DLVR_CARALC_TIME                   0\n",
       "DLVR_RECPT_TIME                    0\n",
       "DLVR_COMPT_TIME                    0\n",
       "DLVR_CANCL_TIME                    0\n",
       "dtype: int64"
      ]
     },
     "execution_count": 13,
     "metadata": {},
     "output_type": "execute_result"
    }
   ],
   "source": [
    "df_deliver.isnull().sum()"
   ]
  },
  {
   "cell_type": "code",
   "execution_count": 96,
   "metadata": {},
   "outputs": [
    {
     "data": {
      "text/plain": [
       "array(['서울특별시', '경기도'], dtype=object)"
      ]
     },
     "execution_count": 96,
     "metadata": {},
     "output_type": "execute_result"
    }
   ],
   "source": [
    "df_deliver['DLVR_STORE_BRTC_NM'].unique()"
   ]
  },
  {
   "cell_type": "code",
   "execution_count": 97,
   "metadata": {},
   "outputs": [
    {
     "data": {
      "text/plain": [
       "array(['서울특별시', '경기도', '인천광역시', '경상남도', '충청남도', '전라북도', '부산광역시', '경상북도',\n",
       "       '울산광역시', '대전광역시', '대구광역시', '전라남도', '세종특별자치시', '강원도', '충청북도',\n",
       "       '제주특별자치도', '광주광역시'], dtype=object)"
      ]
     },
     "execution_count": 97,
     "metadata": {},
     "output_type": "execute_result"
    }
   ],
   "source": [
    "df_deliver['DLVR_DSTN_BRTC_NM'].unique()"
   ]
  },
  {
   "cell_type": "code",
   "execution_count": 98,
   "metadata": {},
   "outputs": [],
   "source": [
    "df_deliver = df_deliver[(df_deliver['DLVR_DSTN_BRTC_NM'] == '서울특별시') | (df_deliver['DLVR_DSTN_BRTC_NM'] == '경기도')]"
   ]
  },
  {
   "cell_type": "code",
   "execution_count": 99,
   "metadata": {},
   "outputs": [],
   "source": [
    "df_deliver = df_deliver[df_deliver['DLVR_REQUST_STTUS_VALUE'] == 1]"
   ]
  },
  {
   "cell_type": "code",
   "execution_count": 90,
   "metadata": {
    "scrolled": true
   },
   "outputs": [
    {
     "data": {
      "text/plain": [
       "array(['족발/보쌈', '치킨', '돈까스/일식', '아시안/양식', '카페/디저트', '패스트푸드', '분식', '회',\n",
       "       '야식', '한식', '배달전문업체', '중식', '피자', '찜탕', '도시락', '심부름'], dtype=object)"
      ]
     },
     "execution_count": 90,
     "metadata": {},
     "output_type": "execute_result"
    }
   ],
   "source": [
    "df_deliver['DLVR_STORE_INDUTY_NM'].unique()"
   ]
  },
  {
   "cell_type": "code",
   "execution_count": 101,
   "metadata": {},
   "outputs": [
    {
     "data": {
      "image/png": "[encoded data removed]",
      "text/plain": [
       "<Figure size 432x288 with 1 Axes>"
      ]
     },
     "metadata": {
      "needs_background": "light"
     },
     "output_type": "display_data"
    }
   ],
   "source": [
    "df_deliver.groupby('DLVR_STORE_INDUTY_NM').size().sort_values(ascending=False).plot(kind='bar')\n",
    "plt.show()"
   ]
  },
  {
   "cell_type": "code",
   "execution_count": 102,
   "metadata": {},
   "outputs": [
    {
     "data": {
      "image/png": "[encoded data removed]",
      "text/plain": [
       "<Figure size 432x288 with 1 Axes>"
      ]
     },
     "metadata": {
      "needs_background": "light"
     },
     "output_type": "display_data"
    }
   ],
   "source": [
    "df_deliver[['DLVR_STORE_INDUTY_NM', 'GOODS_AMOUNT']].groupby('DLVR_STORE_INDUTY_NM').mean().sort_values(by='GOODS_AMOUNT', ascending=False).plot(kind='bar')\n",
    "plt.show()"
   ]
  },
  {
   "cell_type": "code",
   "execution_count": 135,
   "metadata": {},
   "outputs": [
    {
     "data": {
      "image/png": "[encoded data removed]",
      "text/plain": [
       "<Figure size 432x288 with 1 Axes>"
      ]
     },
     "metadata": {
      "needs_background": "light"
     },
     "output_type": "display_data"
    }
   ],
   "source": [
    "df_deliver[df_deliver['DLVR_STORE_BRTC_NM'] == '서울특별시'].groupby('DLVR_STORE_INDUTY_NM').size().sort_values(ascending=False).plot(kind='bar')\n",
    "plt.show()"
   ]
  },
  {
   "cell_type": "code",
   "execution_count": 136,
   "metadata": {},
   "outputs": [
    {
     "data": {
      "image/png": "[encoded data removed]",
      "text/plain": [
       "<Figure size 432x288 with 1 Axes>"
      ]
     },
     "metadata": {
      "needs_background": "light"
     },
     "output_type": "display_data"
    }
   ],
   "source": [
    "df_deliver[df_deliver['DLVR_STORE_BRTC_NM'] == '경기도'].groupby('DLVR_STORE_INDUTY_NM').size().sort_values(ascending=False).plot(kind='bar')\n",
    "plt.show()"
   ]
  },
  {
   "cell_type": "code",
   "execution_count": 145,
   "metadata": {},
   "outputs": [],
   "source": [
    "df_deliver['DLVR_RCEPT_TIME'] = pd.to_datetime(df_deliver['DLVR_RCEPT_TIME'])"
   ]
  },
  {
   "cell_type": "code",
   "execution_count": 146,
   "metadata": {},
   "outputs": [],
   "source": [
    "df_deliver['DLVR_COMPT_TIME'] = pd.to_datetime(df_deliver['DLVR_COMPT_TIME'])"
   ]
  },
  {
   "cell_type": "code",
   "execution_count": 173,
   "metadata": {},
   "outputs": [],
   "source": [
    "df_deliver['배달시간_분'] = df_deliver['DLVR_COMPT_TIME'] - df_deliver['DLVR_RCEPT_TIME']"
   ]
  },
  {
   "cell_type": "code",
   "execution_count": 177,
   "metadata": {},
   "outputs": [],
   "source": [
    "df_deliver['배달시간_분'] = df_deliver['배달시간_분'].apply(lambda x: x.seconds / 60)"
   ]
  },
  {
   "cell_type": "code",
   "execution_count": 184,
   "metadata": {
    "scrolled": false
   },
   "outputs": [
    {
     "data": {
      "text/html": [
       "<div>\n",
       "<style scoped>\n",
       "    .dataframe tbody tr th:only-of-type {\n",
       "        vertical-align: middle;\n",
       "    }\n",
       "\n",
       "    .dataframe tbody tr th {\n",
       "        vertical-align: top;\n",
       "    }\n",
       "\n",
       "    .dataframe thead th {\n",
       "        text-align: right;\n",
       "    }\n",
       "</style>\n",
       "<table border=\"1\" class=\"dataframe\">\n",
       "  <thead>\n",
       "    <tr style=\"text-align: right;\">\n",
       "      <th></th>\n",
       "      <th>배달시간_분</th>\n",
       "    </tr>\n",
       "    <tr>\n",
       "      <th>DLVR_STORE_INDUTY_NM</th>\n",
       "      <th></th>\n",
       "    </tr>\n",
       "  </thead>\n",
       "  <tbody>\n",
       "    <tr>\n",
       "      <th>카페/디저트</th>\n",
       "      <td>36.455411</td>\n",
       "    </tr>\n",
       "    <tr>\n",
       "      <th>도시락</th>\n",
       "      <td>34.199693</td>\n",
       "    </tr>\n",
       "    <tr>\n",
       "      <th>야식</th>\n",
       "      <td>26.538960</td>\n",
       "    </tr>\n",
       "    <tr>\n",
       "      <th>치킨</th>\n",
       "      <td>26.360483</td>\n",
       "    </tr>\n",
       "    <tr>\n",
       "      <th>심부름</th>\n",
       "      <td>26.178797</td>\n",
       "    </tr>\n",
       "    <tr>\n",
       "      <th>족발/보쌈</th>\n",
       "      <td>26.110021</td>\n",
       "    </tr>\n",
       "    <tr>\n",
       "      <th>피자</th>\n",
       "      <td>25.932948</td>\n",
       "    </tr>\n",
       "    <tr>\n",
       "      <th>중식</th>\n",
       "      <td>25.577424</td>\n",
       "    </tr>\n",
       "    <tr>\n",
       "      <th>회</th>\n",
       "      <td>25.549164</td>\n",
       "    </tr>\n",
       "    <tr>\n",
       "      <th>돈까스/일식</th>\n",
       "      <td>25.496279</td>\n",
       "    </tr>\n",
       "    <tr>\n",
       "      <th>찜탕</th>\n",
       "      <td>25.331523</td>\n",
       "    </tr>\n",
       "    <tr>\n",
       "      <th>한식</th>\n",
       "      <td>24.657335</td>\n",
       "    </tr>\n",
       "    <tr>\n",
       "      <th>아시안/양식</th>\n",
       "      <td>24.491863</td>\n",
       "    </tr>\n",
       "    <tr>\n",
       "      <th>분식</th>\n",
       "      <td>24.349307</td>\n",
       "    </tr>\n",
       "    <tr>\n",
       "      <th>배달전문업체</th>\n",
       "      <td>23.285240</td>\n",
       "    </tr>\n",
       "    <tr>\n",
       "      <th>패스트푸드</th>\n",
       "      <td>22.964518</td>\n",
       "    </tr>\n",
       "  </tbody>\n",
       "</table>\n",
       "</div>"
      ],
      "text/plain": [
       "                         배달시간_분\n",
       "DLVR_STORE_INDUTY_NM           \n",
       "카페/디저트                36.455411\n",
       "도시락                   34.199693\n",
       "야식                    26.538960\n",
       "치킨                    26.360483\n",
       "심부름                   26.178797\n",
       "족발/보쌈                 26.110021\n",
       "피자                    25.932948\n",
       "중식                    25.577424\n",
       "회                     25.549164\n",
       "돈까스/일식                25.496279\n",
       "찜탕                    25.331523\n",
       "한식                    24.657335\n",
       "아시안/양식                24.491863\n",
       "분식                    24.349307\n",
       "배달전문업체                23.285240\n",
       "패스트푸드                 22.964518"
      ]
     },
     "execution_count": 184,
     "metadata": {},
     "output_type": "execute_result"
    }
   ],
   "source": [
    "df_deliver[['DLVR_STORE_INDUTY_NM', '배달시간_분']].groupby('DLVR_STORE_INDUTY_NM').mean().sort_values(by='배달시간_분', ascending=False)"
   ]
  },
  {
   "cell_type": "code",
   "execution_count": null,
   "metadata": {},
   "outputs": [],
   "source": []
  },
  {
   "cell_type": "code",
   "execution_count": 185,
   "metadata": {},
   "outputs": [
    {
     "data": {
      "text/html": [
       "<div>\n",
       "<style scoped>\n",
       "    .dataframe tbody tr th:only-of-type {\n",
       "        vertical-align: middle;\n",
       "    }\n",
       "\n",
       "    .dataframe tbody tr th {\n",
       "        vertical-align: top;\n",
       "    }\n",
       "\n",
       "    .dataframe thead th {\n",
       "        text-align: right;\n",
       "    }\n",
       "</style>\n",
       "<table border=\"1\" class=\"dataframe\">\n",
       "  <thead>\n",
       "    <tr style=\"text-align: right;\">\n",
       "      <th></th>\n",
       "      <th>base_ymd</th>\n",
       "      <th>ori_table</th>\n",
       "      <th>tmzon_se_code</th>\n",
       "      <th>sexdstn_se_code</th>\n",
       "      <th>agrde_se_code</th>\n",
       "      <th>adstrd_code</th>\n",
       "      <th>local_pop</th>\n",
       "      <th>fore_pop_1</th>\n",
       "      <th>fore_pop_2</th>\n",
       "    </tr>\n",
       "  </thead>\n",
       "  <tbody>\n",
       "    <tr>\n",
       "      <th>0</th>\n",
       "      <td>20200212</td>\n",
       "      <td>2</td>\n",
       "      <td>F</td>\n",
       "      <td>age_50</td>\n",
       "      <td>11110515</td>\n",
       "      <td>205</td>\n",
       "      <td>0</td>\n",
       "      <td>0</td>\n",
       "      <td>NaN</td>\n",
       "    </tr>\n",
       "    <tr>\n",
       "      <th>1</th>\n",
       "      <td>20200212</td>\n",
       "      <td>2</td>\n",
       "      <td>F</td>\n",
       "      <td>age_15</td>\n",
       "      <td>11110515</td>\n",
       "      <td>78</td>\n",
       "      <td>0</td>\n",
       "      <td>0</td>\n",
       "      <td>NaN</td>\n",
       "    </tr>\n",
       "    <tr>\n",
       "      <th>2</th>\n",
       "      <td>20200212</td>\n",
       "      <td>21</td>\n",
       "      <td>F</td>\n",
       "      <td>age_10</td>\n",
       "      <td>11110515</td>\n",
       "      <td>28</td>\n",
       "      <td>0</td>\n",
       "      <td>0</td>\n",
       "      <td>NaN</td>\n",
       "    </tr>\n",
       "    <tr>\n",
       "      <th>3</th>\n",
       "      <td>20200212</td>\n",
       "      <td>7</td>\n",
       "      <td>F</td>\n",
       "      <td>age_10</td>\n",
       "      <td>11110515</td>\n",
       "      <td>49</td>\n",
       "      <td>0</td>\n",
       "      <td>0</td>\n",
       "      <td>NaN</td>\n",
       "    </tr>\n",
       "    <tr>\n",
       "      <th>4</th>\n",
       "      <td>20200212</td>\n",
       "      <td>16</td>\n",
       "      <td>M</td>\n",
       "      <td>age_25</td>\n",
       "      <td>11110515</td>\n",
       "      <td>291</td>\n",
       "      <td>0</td>\n",
       "      <td>0</td>\n",
       "      <td>NaN</td>\n",
       "    </tr>\n",
       "  </tbody>\n",
       "</table>\n",
       "</div>"
      ],
      "text/plain": [
       "   base_ymd  ori_table tmzon_se_code sexdstn_se_code  agrde_se_code  \\\n",
       "0  20200212          2             F          age_50       11110515   \n",
       "1  20200212          2             F          age_15       11110515   \n",
       "2  20200212         21             F          age_10       11110515   \n",
       "3  20200212          7             F          age_10       11110515   \n",
       "4  20200212         16             M          age_25       11110515   \n",
       "\n",
       "   adstrd_code  local_pop  fore_pop_1  fore_pop_2  \n",
       "0          205          0           0         NaN  \n",
       "1           78          0           0         NaN  \n",
       "2           28          0           0         NaN  \n",
       "3           49          0           0         NaN  \n",
       "4          291          0           0         NaN  "
      ]
     },
     "execution_count": 185,
     "metadata": {},
     "output_type": "execute_result"
    }
   ],
   "source": [
    "df_people.head()"
   ]
  },
  {
   "cell_type": "code",
   "execution_count": null,
   "metadata": {},
   "outputs": [],
   "source": []
  },
  {
   "cell_type": "code",
   "execution_count": 189,
   "metadata": {},
   "outputs": [
    {
     "data": {
      "text/html": [
       "<div>\n",
       "<style scoped>\n",
       "    .dataframe tbody tr th:only-of-type {\n",
       "        vertical-align: middle;\n",
       "    }\n",
       "\n",
       "    .dataframe tbody tr th {\n",
       "        vertical-align: top;\n",
       "    }\n",
       "\n",
       "    .dataframe thead th {\n",
       "        text-align: right;\n",
       "    }\n",
       "</style>\n",
       "<table border=\"1\" class=\"dataframe\">\n",
       "  <thead>\n",
       "    <tr style=\"text-align: right;\">\n",
       "      <th></th>\n",
       "      <th>No</th>\n",
       "      <th>DATE</th>\n",
       "      <th>INDUTY_NM</th>\n",
       "      <th>CMPNM</th>\n",
       "      <th>INDUTY_CODEM</th>\n",
       "      <th>division</th>\n",
       "    </tr>\n",
       "  </thead>\n",
       "  <tbody>\n",
       "    <tr>\n",
       "      <th>0</th>\n",
       "      <td>1</td>\n",
       "      <td>20200101</td>\n",
       "      <td>CCTV</td>\n",
       "      <td>(주)실라전자</td>\n",
       "      <td>319013</td>\n",
       "      <td>1</td>\n",
       "    </tr>\n",
       "    <tr>\n",
       "      <th>1</th>\n",
       "      <td>2</td>\n",
       "      <td>20200101</td>\n",
       "      <td>가공식품도매(기타)</td>\n",
       "      <td>송현동1986발효이야기</td>\n",
       "      <td>452199</td>\n",
       "      <td>1</td>\n",
       "    </tr>\n",
       "    <tr>\n",
       "      <th>2</th>\n",
       "      <td>3</td>\n",
       "      <td>20200101</td>\n",
       "      <td>가구판매(종합)</td>\n",
       "      <td>더갤러리전주점</td>\n",
       "      <td>571100</td>\n",
       "      <td>1</td>\n",
       "    </tr>\n",
       "    <tr>\n",
       "      <th>3</th>\n",
       "      <td>4</td>\n",
       "      <td>20200101</td>\n",
       "      <td>가정부.파출부소개</td>\n",
       "      <td>모두인력파출</td>\n",
       "      <td>839103</td>\n",
       "      <td>1</td>\n",
       "    </tr>\n",
       "    <tr>\n",
       "      <th>4</th>\n",
       "      <td>5</td>\n",
       "      <td>20200101</td>\n",
       "      <td>가정부업알선</td>\n",
       "      <td>모두인력파출</td>\n",
       "      <td>839101</td>\n",
       "      <td>1</td>\n",
       "    </tr>\n",
       "  </tbody>\n",
       "</table>\n",
       "</div>"
      ],
      "text/plain": [
       "   No      DATE   INDUTY_NM         CMPNM  INDUTY_CODEM  division\n",
       "0   1  20200101        CCTV       (주)실라전자        319013         1\n",
       "1   2  20200101  가공식품도매(기타)  송현동1986발효이야기        452199         1\n",
       "2   3  20200101    가구판매(종합)       더갤러리전주점        571100         1\n",
       "3   4  20200101   가정부.파출부소개        모두인력파출        839103         1\n",
       "4   5  20200101      가정부업알선        모두인력파출        839101         1"
      ]
     },
     "execution_count": 189,
     "metadata": {},
     "output_type": "execute_result"
    }
   ],
   "source": [
    "df_close_shop.head()"
   ]
  },
  {
   "cell_type": "code",
   "execution_count": null,
   "metadata": {},
   "outputs": [],
   "source": []
  },
  {
   "cell_type": "code",
   "execution_count": 205,
   "metadata": {
    "scrolled": true
   },
   "outputs": [
    {
     "data": {
      "text/html": [
       "<div>\n",
       "<style scoped>\n",
       "    .dataframe tbody tr th:only-of-type {\n",
       "        vertical-align: middle;\n",
       "    }\n",
       "\n",
       "    .dataframe tbody tr th {\n",
       "        vertical-align: top;\n",
       "    }\n",
       "\n",
       "    .dataframe thead th {\n",
       "        text-align: right;\n",
       "    }\n",
       "</style>\n",
       "<table border=\"1\" class=\"dataframe\">\n",
       "  <thead>\n",
       "    <tr style=\"text-align: right;\">\n",
       "      <th></th>\n",
       "      <th>INDEX</th>\n",
       "      <th>DATE</th>\n",
       "      <th>INDUTY_NM</th>\n",
       "      <th>BRTC_NM</th>\n",
       "      <th>SIGUNGU_NM</th>\n",
       "      <th>EMD</th>\n",
       "      <th>LA_DCMLPOINT_VALUE</th>\n",
       "      <th>LO_DCMLPOINT_VALUE</th>\n",
       "      <th>DIVISION</th>\n",
       "    </tr>\n",
       "  </thead>\n",
       "  <tbody>\n",
       "    <tr>\n",
       "      <th>0</th>\n",
       "      <td>1</td>\n",
       "      <td>20200101</td>\n",
       "      <td>부동산</td>\n",
       "      <td>경기</td>\n",
       "      <td>용인시 처인구</td>\n",
       "      <td>봉명리</td>\n",
       "      <td>37.109***</td>\n",
       "      <td>127.131***</td>\n",
       "      <td>1</td>\n",
       "    </tr>\n",
       "    <tr>\n",
       "      <th>1</th>\n",
       "      <td>2</td>\n",
       "      <td>20200101</td>\n",
       "      <td>토목공학엔지니어링</td>\n",
       "      <td>인천</td>\n",
       "      <td>서구</td>\n",
       "      <td>오류동</td>\n",
       "      <td>37.598***</td>\n",
       "      <td>126.613***</td>\n",
       "      <td>1</td>\n",
       "    </tr>\n",
       "    <tr>\n",
       "      <th>2</th>\n",
       "      <td>3</td>\n",
       "      <td>20200101</td>\n",
       "      <td>한식</td>\n",
       "      <td>강원</td>\n",
       "      <td>영월군 영월읍</td>\n",
       "      <td>영흥리</td>\n",
       "      <td>37.187***</td>\n",
       "      <td>128.473***</td>\n",
       "      <td>1</td>\n",
       "    </tr>\n",
       "    <tr>\n",
       "      <th>3</th>\n",
       "      <td>4</td>\n",
       "      <td>20200101</td>\n",
       "      <td>보일러판매</td>\n",
       "      <td>대전</td>\n",
       "      <td>중구</td>\n",
       "      <td>목동</td>\n",
       "      <td>36.336***</td>\n",
       "      <td>127.403***</td>\n",
       "      <td>1</td>\n",
       "    </tr>\n",
       "    <tr>\n",
       "      <th>4</th>\n",
       "      <td>5</td>\n",
       "      <td>20200101</td>\n",
       "      <td>돼지국밥</td>\n",
       "      <td>경남</td>\n",
       "      <td>창원시 마산합포구</td>\n",
       "      <td>현동</td>\n",
       "      <td>35.147***</td>\n",
       "      <td>128.557***</td>\n",
       "      <td>1</td>\n",
       "    </tr>\n",
       "  </tbody>\n",
       "</table>\n",
       "</div>"
      ],
      "text/plain": [
       "   INDEX      DATE  INDUTY_NM BRTC_NM SIGUNGU_NM  EMD LA_DCMLPOINT_VALUE  \\\n",
       "0      1  20200101        부동산      경기    용인시 처인구  봉명리          37.109***   \n",
       "1      2  20200101  토목공학엔지니어링      인천         서구  오류동          37.598***   \n",
       "2      3  20200101         한식      강원    영월군 영월읍  영흥리          37.187***   \n",
       "3      4  20200101      보일러판매      대전         중구   목동          36.336***   \n",
       "4      5  20200101       돼지국밥      경남  창원시 마산합포구   현동          35.147***   \n",
       "\n",
       "  LO_DCMLPOINT_VALUE  DIVISION  \n",
       "0         127.131***         1  \n",
       "1         126.613***         1  \n",
       "2         128.473***         1  \n",
       "3         127.403***         1  \n",
       "4         128.557***         1  "
      ]
     },
     "execution_count": 205,
     "metadata": {},
     "output_type": "execute_result"
    }
   ],
   "source": [
    "df_close_region.head()"
   ]
  },
  {
   "cell_type": "code",
   "execution_count": 217,
   "metadata": {},
   "outputs": [],
   "source": [
    "import numpy as np #numpy library\n",
    "np.set_printoptions(threshold=np.inf, linewidth=np.inf) #inf = infinity "
   ]
  },
  {
   "cell_type": "code",
   "execution_count": 218,
   "metadata": {
    "scrolled": true
   },
   "outputs": [
    {
     "data": {
      "text/plain": [
       "array(['부동산', '토목공학엔지니어링', '한식', '보일러판매', '돼지국밥', '레저용품대여', '햄버거', '악기판매', '지방지', '꽃집.꽃배달', '유흥주점', '중국음식', '삼계탕', '소프트웨어개발(기타)', '피자', '스파게티', '산후조리원', '치과', '철물.건설자재소매(종합)', '카페', '인터넷쇼핑-의류', '치킨', '생명보험', '미용실', '철근콘크리트공사', '수산물도매(종합)', '일반기계장비도매(종합)', '복어요리', '수족관', '돼지갈비', '꽈배기전문', '건축설비설치공사(종합)', '보일러수리', '비누도매', '건물건설(기타)', '반찬가게', '무선통신업(기타)', '주유소', '학원(종합)', '김밥', '여성의류', '휴대폰', '미술학원', '헬스클럽', '펜션', '연예인대리업', '어린이집', '내과', '건설기계대여', '도금', '정보통신기기수리', '경영상담(종합)', '의류판매(종합)', '자동차운전학원', '건축.엔지니어링.기술서비스(종합)', '인력공급관리', '전기용품도매', '비주거용건물임대(종합)', 'PC방', '카페-디저트', '떡볶이', '행정사', '디자인학원', '가전제품도매', '제과점', '캐주얼의류판매', '정형외과', '호텔', '건축물해체공사', '식료품점', '산업용기계제조', '미용', '공영주차장', '데이타전송업', '소아청소년과', '태권도장', '입시학원', '에어컨설치', '편의점', '피부과', '경영연구소', '정육점', '공기압축기제조.판매', '필라테스', '실내조경공사', '과학기기도매(종합)', '소프트웨어개발(종합)', '체형미교실', '반도체제조', '주택건설', '병원', '가죽제품소매(기타)', '이벤트기획', '이미용기재도매', '빙과류도매', '한우고기', '선박수리', '의료용품도매(종합)', '등산용품', '기타', '이비인후과', '의약품도매(종합)', '산부인과', '의료기기제조(기타)', '전세버스', '이삿짐센터', '수도설비공사', '플라스틱필름도매', '다슬기요리', '식자재판매', '컴퓨터수리', '야식', '유아용품', '키즈카페', '문구용품', '보습학원', '육류.고기요리', '분식', '건설업(종합)', '농산물공판장', '사무용기기', '양식', '모텔', '중국어학원', '통신관련서비스(종합)', '신경외과', '곤충판매', '가공식품도매(기타)', '경비대행', '직물소매(종합)', '운동용품점', '소.돼지고기도매', '식품가공기계제조', '위생용종이용기제조(종합)', '곰탕', '기타상품중개', '방문요양', '조경', '소프트웨어개발', '사진.스튜디오', '광촉매', '캠핑용품', '죽전문점', '스크린골프장', '노래방', '냉면', '수학학원', '한의원', '신발도매(종합)', '깃발제작', '자동제어장치제조', '인테리어', '카페-스터디 ', '일식튀김.꼬치', '판촉물제작', '휴대폰튜닝', '족발.보쌈', '약국', '해장국', '광고대행(종합)', '피부.체형관리', '화장품.향수', '관리사무소', '전자부품도매', '동물병원', '재건축조합', '커튼판매', '댄스스포츠', '원단제조', '관광음식점', '조명 ', '가전제품', '일식', '퀵서비스', '조명', '스포츠센터', '농협', '주류도매(종합)', '슈퍼마켓', '소방기구.설비제조', '애완동물판매', '김치', '통신판매', '무역업(종합)', '미용재료판매', '세탁업-출장', '옥외광고(종합)', '합기도장', '스쿼시장', '안경원', '농자재판매', '안전용품판매', '반려동물장례식장', '찜질방', '자동차부품판매(종합)', '서점', '재활의학과', '컴퓨터주변기기제조', '철근공사', '건강식품도매', '커피머신판매', '잡화점', '양품점', '자동차판매(종합)', '소방시설안전점검', '방앗간', '의류제조(종합)', '골프용품', '금융서비스', '신장내과', '보드카페', '요가원', '의료용기기제조(종합)', '캠핑카', '장작', '건강식품', '감자탕', '외국어학원', '체인점관리', '샤브샤브', '스테이크', '당구장', '자동차용품판매', '변호사', '예식장', '화장품도매', '축산물중개', '비철금속광업(종합)', '놀이방', '단란주점', '축산물도매(기타)', '요양병원', '광고대행', '출장요리', '무선통신업(종합)', '무역업(기타)', '민속주점', '가구판매(종합)', '의료용기기도매(기타)', '화물중개', '안경제조', '렌트카', '가정의학과', '노인요양원', '칼국수', '물류센터', '채소가게', '에어컨청소', '여행사', '가전제품수리', '장어', '건축설계사무소', '한방병원', '횟집', '큰옷판매', '포크레인대여', '금속주조기제조', '청소.소독대행', '도정업', '결혼준비대행', '침대판매', '남성의류', '유치원', '고시원', '고용알선(종합)', '전통공예.기념품', '모피의류판매', '가방판매', '서적출판(종합)', '컴퓨터.사무용기기소모품판매', '방화문', '수상운동용품', '교육상담', '결혼상담소', '한약국.한약방', '지붕공사', '세탁소', '선박구난', '자동차정비.수리', '가구판매(기타)', '정수기제조', '파이프제조.판매', '돈가스', '운동.코치학교', '게임소프트웨어개발', '정신병원', '한식부페', '곡물도매', '배달용역', '농기구제조', '조경공사', '측량업', '컴퓨터시스템/네트워크통합업무', '병설유치원', '인문사회과학연구개발(종합)', '새마을금고', '가죽제품제조(종합)', '해양오염방지공사', '견인운송', '토목건설(종합)', '냉동냉장.냉난방기제조', '상품권판매', '쭈꾸미요리', '근로자파견관리', '게스트하우스', '육류가공저장처리(종합)', '장례식장', '유선통신장비', '철강판재도매', '귀금속.시계', '농수산물판매', '도료도매(기타)', '자동차판매(기타)', '의약품소매(기타)', '호프', '축산물도매(종합)', '화물운송', '스포츠웨어판매', '종합병원', '닭발', '의료용기기도매(종합)', '대리운전', '화물', '지게차', '청소.소독대행(종합)', '도시락', '방수.방습.내화공사', '종합소매(기타)', '경량철골공사', '생활용품', '안과', '전.빈대떡.부침', '닭갈비', '외과', '유아교육기관(종합)', '자동차부품제조(종합)', '성형외과', '묘지관리(종합)', '생수', '택배', '컴퓨터프로그램', '곱창.양구이', '주류제조', '불교용품', '무역대리업', '환경공학엔지니어링', '장의서비스(종합)', '간판제작(종합)', '홈페이지제작', '충전소', '평생교육원', '꽃.꽃집', '육류 ', '화랑', '다방', '만화영화제작', '철도차량부품제조', '정보처리대행', '운동경기협회', '전자부품제조(종합)', '애견용품', '비뇨기과', '인터넷쇼핑', '오토바이', '빨래방', '관광호텔', '약초도매', '플라스틱제품제조(기타)', '가설공사', '어린이가구판매', '유선통신업(종합)', '기계부속품제조', 'CCTV', '샌드위치', '플라스틱물질제조', '유기농식품', '목욕탕.사우나', '빵.과자', '골재도매', '실내골프연습장', '셔츠.내의소매(종합)', '전자결제대행', '화물포장', '유학알선', '소방설비도매', '냉난방기판매(종합)', '순대.순대국', '특수화물운송', '골프의류판매', '넥타이도매', '가정용전기기기도매(종합)', '콜택시', '주택전시장', '과학기구장비도매', '명상원', '철물점', '방송프로그램제작', '침구류판매', '자전거', '가공식품도매(종합)', '학습지', '네일아트', '교복판매', '모터.원동기제조', '창고', '반도체가공기계제조', '내의판매', '자동차튜닝', '일간지', '행사대행', '인쇄업', '경기용품도매', '열교환기제조', '고용알선(기타)', '금은방', '삼겹살', '순대국밥', '마취통증의학과', '주방가구', '토목건설(기타)', '주차장', '건물분양(종합)', '토목설계', '세라믹제품제조', '네비게이션', '법무사', '손해사정인', '심리상담치료', '신문발행(종합)', '닭고기도매', '곡물종자도매(종합)', '한정식', '조립식판넬', '철판제조', '도서관', '창호공사', '화공약품도매', '주방기구', '타일도매', '안감.의류부속재료도매', '경영상담(기타)', '석제품제조판매', '섬유.실도매', '광고물제작(종합)', '컴퓨터주변기기', '중고가전제품', '명함인쇄', '의료기구제조', '사료.곡물', '철물제조(종합)', '무연탄광업', '천막제조.판매', '관세사', '선박부분품제조판매', '연마제조', '영화.공연사업', '건물건설(종합)', '광고디자인', '건축백화점', '공원', '화장지도매', '현수막제작', '금속주조기제조(종합)', '농약사', '도장공사', '통신.방송장비제조(기타)', '우유.유제품', '직업안내', '대리석제조.판매', '사료도매', '수산물음식점', '떡.한과', '만두', '피아노학원', '폐차장', '밸리댄스학원', '목재도매(종합)', '기술시험검사(종합)', '인삼제품', '우유제품도매', '코팅', '전자부품제조', '영화제작.배급', '인쇄서비스(기타)', '보험', '유리.거울판매', 'LPG판매', '자동차정비기기', '전기변환장치제조(종합)', '철구조물제조', '음악학원', '요리학원', '치과기공소', '컴퓨터', '종합식품제조', '척추교정치료', '체육관', '누수탐지', '전기공사', '음식료품중개', '빵.과자도매', '세차장', '급식', '건설광업용기계장비도매(종합)', '재개발정비사업조합', '주형.금형제조', '홈쇼핑', '독서실', '막국수', '수도부속상', '음식점-이자카야', '유리제품소매(종합)', '자동차부품판매', '손해보험', '도자기제품도매', '기계공구제조', '송풍기.환풍기도매', '컴퓨터학원', '패스트푸드(종합)', '안경테제조', '공작기계제조(종합)', '철물도매', '음료도매', '상점임대', '건축용목제품제조(기타)', '탁구장', '유아복판매', 'CCTV카메라', '시계판매.수리', '의약품제조', '골프장', '미곡상', '통신기기도매', '건어물상', '홈패션', '합판제조', '중장비대여', '정미소', '잠수.수중공사', '소방기구판매', '건축물축조관련건설(종합)', '음식점-생태/동태/명태요리전문', '제약업(종합)', '장의차량', '주류판매', '해조류도매', '카센터', '양복점', '문화센터', '열쇠판매.수리', '국악학원', '전지제조(종합)', '유리섬유도매', '검도장', '건설용기계장비임대(종합)', '카고크레인대여', '텔레비전방송', '발레학원', '복싱도장', '금속광물도매', '타월.수건도매', '중고가구판매', '영상가요주점', '수산물냉동', '흑돼지', '외의소매(종합)', '민박', '광고기획', '선박건조.수리(기타)', '온수기', '제사.방적.직조업(종합)', '퀼트전문', '혼수.예단.예물', '오리고기', '액세서리판매', '청소용품도매', '주거용건물임대(종합)', '목재가공(종합)', '전기용품', '산업디자인', '학원(기타)', '서적.신문', '토지정지공사', '포장마차', '영어학원', '수출입물품검정', '공인회계사', '플라스틱용기제조', '중고자동차판매', '주방기구제조', '중고자동차부품', '전기배선기구.연결장치제조', '중고건축자재판매', '유리.유리제품제조', '아귀요리', '라면도매', '닭집', '승강기제조.판매', '도너츠', '소프트웨어판매', '음악연습실', '무용학원', '컨테이너화물운송', 'PVC제조', '컴퓨터디자인', '전원주택', '공해방지시설공사(종합)', '용접', '가정부업알선', '페인트도매', '건어물도매', '종합물품임대', '실내놀이터', '열처리', '보일러도매', '기타건설자재소매', '음식배달대행', '베트남음식', '소주방', '블록놀이방', '나이트클럽', '웨딩전문샵', '프랜차이즈', '한복점', '통신.방송장비제조(종합)', '법무관련서비스(종합)', '계란도매', '타이어', '노인병원', '플라스틱제품제조(종합)', '숙박', '단전호흡', '사다리차대여', '사철.영양탕', '바닥장식공사', '볼트.너트.와셔제조', '공장자동화기기제조', '전기자동제어장치제조', '크레인대여', '애견미용학원', '공작기계도매', '주류제조(종합)', '김치제조', '철물.건설자재소매(기타)', '낚시용품', '가발판매', '고철가공처리', '유산균음료판매', '목제품', '펌프도매', '우체국', '유리제품도매', '장의사', '택시 ', '커피재료판매', '스카이대여', '영상.음향기기제조(종합)', '기타철강업00', '콘택트렌즈제조-판매', '발전기제조', '자동차부품제조(기타)', '정수기', '건강원', '케이블제조(종합)', '포장재료도매', '벽지.장판', '여성의류도매', '울타리설치공사', '철근도매', '욕실용품', '주간지', '폐백음식', '종이공예', '직판장', '실내장식품', '주방용품', '배관자재도매', '팔레트깔판제조.판매', '용달', '수공구도매', '시외버스터미널', '선박설계', '세척기제조', '출장파티.연회대행', '위생용종이용기제조(기타)', '섬유가공기도매', '위생도자제품도매', '추레라대여', '토스트', '표백.염색가공(종합)', '이발소', '배관.난방공사', '청과물 ', '가구', '낙지요리', '설렁탕', '오락용품도매(종합)', '신문발행(기타)', '작물재배', '건설용기계장비임대(기타)', '농기계판매', '철강관도매', '은행', '닭요리', '냉장.냉동창고업', '캐릭터상품', '조립식건축물재료도매(종합)', '해물.생선요리', '묘목재배', '난방용품', '셔터.샤시판매', '공기정화기제조', '수상.항공운송', '육류가공', '과실작물재배', '떡집', '사료제조', '시락국밥', '이동통신서비스', '주택공급', '합성수지제조(종합)', '환전소', '여관', '건축용목제품제조(종합)', '서예학원', '도시가스설비공사', '통신공사', '신용카드조회기판매', '활어도매', '문구용품도매(종합)', '자동차시트커버', '택시회사', '가설자재임대', '사무용기계장비임대(종합)', '철근도매(종합)', '전자부품제조(기타)', '유압기계제조', '공예학원', '기독교서적', '막창', '공인중개사학원', '조명.전기용품', '소방설비공사', '직물도매', '전화기', '방송장비도매', '지역정보지', '농기구판매', '소아치과', '자동판매기운영', '체험학습장', '전자담배', '자동차제조', '선박건조', '버섯재배', '태양광에너지', '건축감리', '미용기재도매', '의약품도매', '포목점', '부대찌개', '과실.음료.향신작물생산(종합)', '자동차엔진제조(종합)', '스포츠웨어도매', '건축설비설치공사(기타)', '직장위탁교육', '차류가공', '광택전문', '특장차제조', '온천', '동물약품', '위생용도자기도매', '사무용가구판매', '레저스포츠', '청과물', '완구점', '수산물가공', '목재.석재가공기계제조', '자전거.부품도매', '곡물가공.제조', '신발소매(종합)', '포장지제조', '안마/지압원', '비닐제조', '종묘상', '납품업', '불닭', '전화번호부광고대행', '벽지.장판지제조(종합)', '핫도그', '원룸임대', '비금속재생재료가공처리(종합)', '바.칵테일', '서적도매', '가방제조', '배전반제조', '음료제조(기타)', '광택제.접착제도매', '젓갈판매', '소머리국밥', '전기업(종합)', '스테인레스판제조', '피부미용학원', '그리스.윤활유도매', '귀금속도매', '변압기제조', '찜닭', '건물분양(기타)', '여행.숙박', '철망제조', '공학연구소', '직물제품도매(종합)', '컴퓨터기술관련서비스(종합)', '비닐제품제조', '주식.증권', '택시', '전복요리', '남성정장판매', '커튼', '음식료품무역', '아이스크림', '헬스기구', '보일러.난방용품소매(기타)', '블라인드제조.판매', '조립식건축', '금속압형제품제조', '건축자재판매', '우산.양산도매', '악기도매', '인터넷쇼핑-화장품', '축협협동조합', '합성섬유제조(종합)', '마을버스', '밀면', '영재교육학원', '요양보호사교육원', '매운탕', '승강기검사', '기사식당', '구내통신설비공사', '금속가구제조', '농업용기계장비임대', '자수제품제조', '방수제제조.판매', '제화점', '실내수영장', '정화조시설공사', '과실채소가공저장처리(종합)', '사출기제조', '장갑도매', '컴퓨터도매', '자연과학연구개발(기타)', '기념패제작', '주산.속셈학원', '철강주조(종합)', '사무대리서비스', '중장비매매중개', '전동요소제조(종합)', '서적물도매(종합)', '기계부속품판매', '웨딩드레스판매', '신발가게', '도료도매(종합)', '중고피아노판매', '미용학원', '플라스틱도매', '의류할인점', '침구', '공작기계제조(기타)', '일회용품도매', '운동.경기용품', '아동복판매', '담배도매', '어린이영어학원', '광고대행(기타)', '산업용기계장비무역', '시계.귀금속도매(종합)', '풍선도소매', '가스제조.공급(종합)', '기록물출판(기타)', '도배공사', '기타도자기제조', '비금속재생재료수집도매', '와이어로프', '수산물', '조립식앵글', '세무사', '목공소', '자석제품제조', '유기질비료제조업', '수입품판매점', '벽돌제조', '자동차등록대행', '두부요리', '주방가구제조', '목재가구제조', '위성통신서비스', '스테인레스파이프제조', '닥트제조판매', '모피제조(종합)', '전통찻집', '보안기제조', '요양원', '건강식품제조', '대학병원', '골판지상자제조', '건축마무리공사(종합)', '기계운반설치', '계측기제조', '세폭직물제조', '청소기구도매', '밸브도매', '도포직물제조', '무선호출서비스', '필터제조', '레미콘제조', '간판제조', '적성검사', '새차판매', '철망도매', '보청기', '마구류제조(종합)', '지물판매', '유류판매', '운명감정', '전열기제조', '귀금속.장신구제조(종합)', '사업정보제공서비스', '영상장비제조', '공항버스', '변리사', '전기제어장치제조(종합)', '아크릴판매', '가스설비시공', '사무기기대여', '신발제조(종합)', '비료도매', '소프트웨어도매', '목형제조', '학습교구도매', '모형제조(종합)', '회계관련서비스(종합)', '에어컨수리', '신용.보증', '스크린앤쇄', '제본업', '뉴스제공(종합)', '남성의류도매', '휴게소', '직물판매', '의약품소매(종합)', '전자오락실', '구조금속제품제조(종합)', '검정고시학원', '문구용품도매(기타)', '지질조사', '피아노조율', '피부비뇨기과', '화학섬유제품제조(종합)', '홍삼제품제조판매', '통신장비도매(기타)', '장류제조판매', '논술학원', '가정부.파출부소개', '커피가공', '봉제', '바이올린학원', '음료제조(종합)', '액세서리소매(종합)', '실외골프연습장', '참치요리', '중고주방용품', '섬유제면', '아스팔트제품제조', '시멘트제조', '세제제조(종합)', '밧데리', '복사대행', '통신관련서비스(기타)', 'LPG공급', '볼링장', '펌프제조', '교통표지판제작', '유선통신업(기타)', '공부방', '한지제조판매', '알루미늄제품제조', '직물도매(종합)', '번역.통역서비스', '철물난방장치도매(종합)', '냉동식품', '전기기계장비도매(종합)', '합성수지도매', '시멘트도매', '개인.가정용품수리(기타)', '강관제조', '원예', '발전기도매', '포스시스템', '룸살롱', '부가통신업(종합)', '개인.가정용품수리(종합)', '타일제조', '인터넷관련사업(종합)', '난방장치도매', '페리.해운', '종이제품도매(기타)', '추어탕', '애완동물미용', '통신설비설계', '호두과자', '스피치학원', '오토바이부품판매', '발관리', '건축.엔지니어링.기술서비스(기타)', '컴퓨터.주변기기제조(종합)', '기계공학엔지니어링', '흑염소', '동물도매(종합)', '전기안전관리대행', '유선방송', '화물중개(종합)', '수입자동차정비', '접착테이프제조', '개인파산', '산업용고무제품제조', '자동문', '보일러.난방용품소매(종합)', '생명과학연구소', '건물개.보수공사', '건강기구', '상품포장', '리프트대여', '증권투자자문업', '카메라도매', '접착제제조', '수협', '내수면양식', '조립식건축물재료도매(기타)', '지하철', '자동차부품판매(기타)', '사무용가구', '음악감상실', 'TV방송업(종합)', '화물운송-수출입', '구두도매', '의자.탁자제조', '쇼핑센터.할인매장', '악기제조(종합)', '데이터베이스사업(종합)', '컴퓨터기술관련서비스(기타)', '유아용품제조', '비철금속압연(종합)', '실사출력', '벽돌조적.석축공사', '베어링제조', '화장품.비누.세정제도매(종합)', '가발제조', '부직포제조', '도로건설.포장공사', '이화학용기구도매', '스키장비', '소비자협동조합', '시내버스', '콘도', '가공지제조', '화학사제조', '컨테이너제작', '우편취급국', '철재가구', '석회시멘트도매(기타)', '신경정신과', '경락마사지', '펌프카대여', '골판지제조(종합)', '선박화물운송', '향교', '금속가공', '합성수지제조', '얼음', '가축사육', '인쇄기재제조', '알콜병원', '도료판매', '목상자제조', '총포상', '알루미늄주물주조', '닭강정', '낚시터', '판지제조', '가정자동화기기', '식품제조', '식품첨가물제조', '펌프.밸브제조(종합)', '식용유도매', '계면활성제제조', '인조섬유제조', '철도장비제조(종합)', '지하수개발', '금속절단', '침대.가구제조', '고추.마늘도매', '공업용가스도매', '기계공구판매', '농기계수리', '염료도매', '계량기제조', '주택수리', '수산물중개', '순두부', '시약제조', '카인테리어', '실리콘제조', '석유화학제품제조', '복권.로또', '폐품수집도매', '비철금속관도매', '놀이터용장비제조', '석회석광업', '프레스기도매', '합성고무도매(종합)', '철도공사', '의료용품도매(기타)', '자전거판매.수리', '문구용품제조(종합)', '커튼도매', '주거용건물임대(기타)', '가구제조', '철물난방장치도매(기타)', '금속탱크제조(종합)', '공기조화기제조', '수산물무역', '청소.소독대행(기타)', '편직제조', '중장비부품도매', '나무', '수도사업(종합)', '표백.염색가공(기타)', '미싱', '건축용판넬제조.판매', '금속케이블도매', '청소년수련관', '보증보험', '인쇄기제조', '활성탄소제조', '판넬대여', '바둑학원', '홀딩도어', '정밀주조', '직업훈련소', '혈액원', '용접봉제조', '자동차폐차대행', '스티로폴', '낙농업', '화장품제조', '중장비제조(종합)', '야간병원', '기타도료관련제품판매', '의료용품판매', '축산', '공인노무사', '라이브카페', '환경계측기공사', '수영용품', '의료기기대여', 'LPG도매', '감시용기기제조', '반도체도매', '제관업(종합)', '가발도매', '패밀리레스토랑', '탈취제제조', '물탱크제조', '가구장식품제조', '전단지배포대행', '자동차유리전문점', '자동차관리대행', '건축마무리공사(기타)', '채소.화훼작물.종묘생산(종합)', '오락용품제조(종합)', '농축산물무역', '셀프세차장', '우동', '무늬목제조', '의류산업용기계제조(기타)', '콩요리', '임업 ', '영상.음향기기제조(기타)', '시험기기제조', '압축기제조', '중장비정비', '자동차부속품제조', '조개구이', '국수', '자동차용품제조', '국제화물운송', '산업용기초화합물도매(종합)', '초음파기기제조', '전기전자공학엔지니어링', '구두부속제조', '알루미늄압연.압출', '플라스틱파이프제조', '구두수선', '기술시험검사(기타)', '무에타이도장', '육류가공저장처리(기타)', '통신공학엔지니어링서비스', '합성고무도매', '가공목재도매', '산소가스판매', '동주물주조', '인장.도장', '천연비누화장품', '상가분양', '호이스트제조.판매', '세탁업(기타)', '부페', '패션디자인', '국민연금공단', '당구장비도매', '조미식품도매', '보일러제조', '컴퓨터공학엔지니어링서비스', '발효식품제조.판매', '전자식공작기계제조', '화학기계장비도매', '옷수선', '농기구수리', 'PE.PP필름제조', '금속공작목공용기계도매(종합)', '미장타일공사', '금속사제조', '가정용도자기제조', '구조금속제조(기타)', '과실.채소중개', '방송.음향설비공사', '콘크리트제품도매', '수로.배수시설공사', '신용협동조합', '함석챙도매', '화학연구소', '베어링도매', '덤프대여', '콩나물국밥', '공해방지시설공사(기타)', '보링.그라우팅공사', '컴퓨터통신서비스', '연금.공제', '댄스스포츠학원', '양돈', '인삼제품제조', '철도 ', '폐플라스틱가공처리', '반영구화장', '백화점', '승마장', '금속처리(종합)', '쌈밥', '육상운수장비임대(종합)', '바이오.미생물연구개발', '생선도매', '시장', '전기측정기기도매', '콘크리트.시멘트제품제조(종합)', '사무용가구제조', '간병인', '안마시술소', '소파천갈이', '방문교육', '장의용품', '산업설비공사', '수산물도매(기타)', '수의업', '철물제조(기타)', '국악기판매', '음식물처리기', '공증인', '연안어업', '조각품판매', '담배', '꽃꽂이학원', '화훼작물재배', '치과재료제조', '통신장비도매(종합)', '신발제조(기타)', '화장지제조', '광고물제작(기타)', '전광판광고물제작', '석유정제제품도매', '일반기계장비도매(기타)', '선박건조.수리(종합)', '밸브제조', '응급구조대', '곡물소매(종합)', '외의도매(종합)', '가라오케', '염색', '기와.벽돌.블록도매(종합)', '닥트공사', '참기름', '농업용기계제조(종합)', '양장점', '수상운수장비임대(기타)', '영상의학과', '오피스텔임대', '고무.플라스틱성형기제조', '기호식품도매', '농산물창고(종합)', '골재채취', '초밥.롤', '항만시설운영', '안전보호구제조', '편조업', '양말도매', '오리요리', '한약건재도매', '블록도매', '홍어', '퓨전음식', '상조서비스', '침구류도매', '자연과학연구개발(종합)', '발전소', '비철금속주조(종합)', '작업복제조', '냉난방설비', '포장기제조', '유스호스텔', '제과.제빵', '어탕', '뜨개방', '건설광업용기계장비도매(기타)', '두피관리', '의료업', '선박.항공기중개(종합)', '위생용섬유제조(종합)', '원목도매', '제빙기제조.판매', '야금제품제조(종합)', '콜밴', '고기부페', '프로그램개발대행', '농축수산물중개(종합)', '미장공사', '트레일러대여', '임업', '서적출판(기타)', '게요리', '콘크리트벽돌.블록제조', '메밀요리', '내장목공사', '벽지제조', '교통신호장치제조', '속독학원', '합성고무제조', '레크레이션지도', '컨테이너임대', '언어치료', '도서대여', '축구교실', '중고품소매(종합)', '인쇄기도매', '복사기도매', '발마사지', '단판.합판.나무판제조(종합)', '새집증후군전문', '철문제조.판매', '비닐제품도매', '피아노운반', '태국전통마사지', '출장빵꾸', '버섯판매', '남성전문미용실', '정보처리학원', '수입자동차판매', '종이상자제조.판매', '두부제조', '바다낚시', '건물장치물설치공사', '정수설비제조', '보트건조.수리', '카메라', '양봉', '선구.어구제조', '지관제조', '톨게이트', '토서석채취(종합)', '상업세탁물', '노인일자리창출', '어업관련서비스', '네온사인간판제작', '양계', '국가고시학원', '양식업(종합)', '선박매매중개', '벽돌판매', '특공무술도장', '나무문', '물품감정서비스', '과일창고', '잔디판매', '정기간행물발행(종합)', '중고컨테이너판매', '필름난방', '하이랜더대여', '식물도매(종합)', '형틀공사', '종합소매(종합)', '롤러.인라인스케이트장', '미용업-속눈썹', '중고타이어', '제사음식', '제관', '도면제작대행', '철골공사', '산업용건조기제조.판매', '관광안내소', '간호조무사학원', '열쇠제조', '인테리어필름', '방충망.방범창판매설치', '석면해체공사', '도장용기구제조', '갈비탕', '자동차썬팅', '인터넷전화판매', '금속주조기제조(기타)', '신발소매(기타)', '자동차검사소', '금고', '육상운수장비임대(기타)', '폐수처리약품제조', '신용조사업', '상호저축은행', '건강보조기구', '머리염색방', '종이라벨제조', '태양열전지', '판금', '모터.원동기수리', '백숙', '포장용판지제조(종합)', '세탁기청소', '자동차관련대행서비스(종합)', '수산물가공저장처리(종합)', '주방가구. 주방기기', '목욕탕기자재도매', '심부름센터', '속기.녹취', '미싱도매', '가구수리', '제재소', '합금철강제조', '토지임대', '견과류판매', '학습참고서출판', '유니폼판매', '건강진단센터', '컴퓨터제조', '전동차제조', '복사기제조', '줄넘기학원', '사회교육단체', '사업중개업', '인터넷관련사업(기타)', '보청기도매', '자동차정비학원', '건축물축조관련건설(기타)', '소금도매', '유원지', '옥매트판매수리', '사무실임대', '유리도매', '펌프수리', '의복제조(종합)', '한복대여', '법무관련서비스(기타)', '전자관제조', '물품취급장비제조(기타)', '자동차번호판제조', '방향제제조', '금속재생가공처리(종합)', '사무.회계용기계제조(기타)', '견직물제조', '절삭기계제조', '에어로빅학원', '자동차관련대행서비스(기타)', '음악상담치료', '양어장', '건물해체용기계장비임대', '화환.화분대여', '태양열온수기', '떡갈비', '심야전기보일러판매.수리', '자동차정비보링', '열쇠도매', '직물가공제조', '해조류가공', '전기온돌판넬', '과실.음료.향신작물생산(기타)', '장난감도매', '교량.터널공사', '건축물안전진단', '상품전시', '철판구이', '섬유사도매', '온돌', '유리공사', '인터넷교육', '수예품도매', '악기수선', '복합비료제조', '석탄화학제품제조', '음식료품.담배중개(종합)', '종이제품도매(종합)', '합성섬유제조(기타)', '고무호스판매', '스프링제조-판매', '가스보일러제조', '물품보관소', '측량기제조', '여객선 ', '자동차엔진제조(기타)', '카오디오전문', '가설자재판매', '유도장', '월간잡지', '수입자동차부품판매', '중고컴퓨터', '제판.조판', '자동차검사대행', '농업서비스', '전동공구판매', '위생소독재료제조', '솜틀집', '석면제조', '오징어요리', '다이아몬드공구제조', '동식물성유지제조(종합)', '레이저기기제조', '업소용식기세척기', '국수제조', '방열문제조', '커피바리스타학원', '축산물공판장', '인쇄용필름제조', '작명', '납골당', '유리제품소매(기타)', '과메기', '카메라수리', '래프팅', '스포츠마사지', '선물.옵션', '장갑제조', '숯판매', '중장비학원', '주차장설비공사', '자기주도학습학원', '경제연구소', '수영장', '신발세탁', '통신설계', '콘크리트조립구조재제조', '공압기기제조', '전당포', '산업용기초화합물도매(기타)', '펄프제조', '비디오제작', '기록물출판(종합)', '지도제작', '액세서리소매(기타)', '칠판제조', '폐수처리시설공사', '운동경기용품도매(종합)', '가죽제조(종합)', '석유정제재처리(종합)', '단열재도매', '자동차외형복원', '방청제제조', '소아한의원', '드라이아이스제조', '와이셔츠제조', '보리밥', '진열장', '도료제작(종합)', '풋살경기장', '이탈리아요리', '유압기계도매', '제기용품', '전기업(기타)', '고객관리대행', '영화관', '화물중개(기타)', '정밀기기제조(기타)', '귀금속.장신구제조(기타)', '도료제조', '수산물위탁판매', '고소작업대대여', '상업용기계장비도매', '문화카페', '중장비도매', '수입가전제품수리', '공원묘원', '미용재료제조', '육류도매', '수입고기정육점', '개훈련소', '가구점', '항공기부품제조', '창업상담', '조립식칸막이시공', '전동공구제조', '어학교재', '농산물창고(기타)', '안경틀도매', '스크린야구장', '그림.액자판매', '캘린더인쇄', '공기정화기판매', '매트제조', '온실공사', '물탱크청소', '성인용품', '펄프.종이.판지제조(종합)', '동파이프판매', '공연기획및제작', '콘크리트.시멘트제품제조(기타)', '스키장비대여', '의수족제조', '하수구냄새차단제품제조.판매', '식품첨가물도매', '직물제품소매(종합)', '장판벽지제조', '식품첨가물제조(종합)', '가정용연료소매(종합)', '가스제조.공급(기타)', '의학연구소', '국내여객선터미널', '유람선', '전파사', '가구주문제작', '포장검수(종합)', '사무용기계도매(종합)', '인터넷광고대행', '실용음악학원', '회원권거래소', '운동경기용품제조(종합)', '금속선도매(종합)', '사무.회계용기계제조(종합)', '진공장치제조', '골프용품제조', '비금속제품성형기계도매', '킥복싱', '위생소독재료도매', '웅변학원', '산업용로봇제조', '지하철역', '잠수장비도매', '김가공', '경호대행', 'EDI서비스', '관광통역번역학원', '가정용품무역', '인문사회과학연구개발(기타)', '시장조사.여론조사(기타)', '수의학연구소', '가정용가구기기임대(종합)', '샌드위치판넬', '방송장비', '가죽.모피제품도매(종합)', '목재용기제조(종합)', '오뎅바', '코다리전문', '리프트제조.판매', '중장비제조(기타)', '기타학원(Guitar)', '식물성유지제조', '벽지.장판지제조(기타)', '모형제조(기타)', '식물원', '위생용고무제품제조', '톱밥판매', '보석감정', '조제윤활유제조', '종묘생산', '녹즙', '도시가스공급', '산소발생기판매', '수석판매', '디스플레이대행', '산업폐기물처리기계제조', '채소.화훼작물.종묘생산(기타)', '음반제작', '화장품.비누.세정제도매(기타)', '선물용품', '셔츠.내의도매(종합)', '플라스틱관도매', '인터폰제조판매', '타임리코더제조', '생과자점', '물수건대여', '치과기기도매', '철근도매(기타)', '시계도매', '디스플레이소재제조', '인터넷뉴스', '국제회의용역', '농산물통조림도매', '통조림식품도매(기타)', '신발도매(기타)', '주단판매', '중고대형자동차판매', '측량기기도매', '돌침대판매', '찌개.전골', '예식서비스(종합)', '전자출판', '시장조사.여론조사(종합)', '우레탄제조.판매', '세차기제조', '의류산업용기계제조(종합)', '보트대여', '목공예품제조', '국어학원', '녹음실', '가죽의류판매', '연탄제조', '업소용가전제품수리', '담배무역', '중고자동차경매', '원유정제처리', '과학학원', '원양어업', '목재도매(기타)', '임상병리과', '자동차정비-대형', '부직포제조(기타)', '종합위락시설', '육개장전문', '문서대행', '연탄판매', '염료판매', '냉난방기판매(기타)', '과학기기도매(기타)', '사진필름제조', '액세서리제조', '농학연구소', '가정용전기기기도매(기타)', '사진필름도매', '실내운동장설비운영', '전기감리', '원심분리기제조', '전산식자', '빙과류제조', '땅콩도매', '무인텔', '시계부품제조(종합)', '스킨스쿠버강습', '미끄럼방지', '굴요리', '홈네트워크시스템설치', '캠프장', '힙합댄스학원', '테니스장', '금속공작목공기계도매(기타)', '민속의류판매', '곡물종자도매(기타)', '목욕탕.사우나시공', '증권투자신탁업', '시장조사', '소방감리', '기초화합물제조(기타)', '고주파기기제조', '패스트푸드(기타)', '중고품소매(기타)', '중고자동차수출', '애견사육', '관상수재배', '부직포제조(종합)', '액자점', '사진.광학.정밀기기도매(종합)', '치매병원', '광고영화제작', '아파트임대', '가축도매', '개.염소.양고기도매', '세탁기구제조', '중고농기계', '용접기판매', '청소용품제조', '그레이팅제조', '유아교육기관(기타)', '음성정보서비스', '화훼공판장', '사회과학연구소', '묘지임대', '종이가방제조', '주류도매(기타)', '생활정보제공서비스', '금속판재도매(종합)', '중고골프용품', '질소화합물제조(종합)', '판금공사', '보온공사', '불교서적', '시계.귀금속도매(기타)', '산모도우미', '텔레마케팅대행', '연극영화제작용품임대(종합)', '축산기자재제조.판매', '장의서비스(기타)', '배관청소', '예술품.골동품', '살균기제조', '위생용섬유제조(기타)', '금속장식품제조', '유리도매(종합)', '기성화', '곡물작물재배(종합)', '장신구제조', '팩시밀리제조', '음식품.담배가공기계제조(기타)', '업소용가전제품소매', '선구.어구도매', '금고제조', '예인선', '톱도매', '국악기제조', '십자수용품판매', '공판인쇄', '셀프주유소', '차량연료소매(종합)', '농업용필름', '간판제작(기타)', '안마의자대여', '경매학원', '섬유원료도매', '석면광업', '미니중기대여', '신경과', '모형건축물', '연립주택임대', '주말농장', '맥주도매', '과일주스전문점', '송.배전소', '산업용가스제조(기타)', '벌목업(종합)', '마을문고', '제과기계제조', '산업용품판매', '영화상영', '편조업(종합)', '화학공학엔지니어링', '수입가구판매', '전기변환장치제조(기타)', '농업용기계제조(기타)', '강판제조.판매', '소독제제조', '장식용품도매', '편집대행', '스포츠마케팅', '지물재단', '심리변론학원', '중고명품', '중고수입자동차판매', '빌라관리', '철강주조(기타)', '온풍기판매', '콜센터', '양고기', '자연학습원', '기능성신발판매', '곡물재배', '고무사제조', '중고휴대폰', '와인판매', '흥신소', '웨딩드레스제조', '노트제조', '어망제조.판매', '산삼', '수영용품제조', '비주거용건물임대(기타)', '구제의류판매', '유아스포츠센터', '가죽제품소매(종합)', '관광선', '대형자동차운전학원', '카레', '아연제련', '판넬', '탐정경호(종합)', '여론조사', '하이패스', '제약업(기타)', '안마의자', '주유기판매', '옥외광고(기타)', '음료제조', '유리도매(기타)', '망제조', '광학기구도매', '등산장비도매', '기름용씨.열매도매', '세척제제조', '의복.액세서리도매', '폴리에틸렌섬유제조', '북카페', '아동복제조', '무선통신장비', '해외인증컨설팅', '진동방지공사', '전자기술학원', '음식점-고로케전문', '육류통조림제조', '산업공학엔지니어링', '직물소매(기타)', '브런치카페', '물질성분검사', '양궁장', '금속재생재료수집도매', '가로등', '실내낚시', '제도기도매', '음식점-닭요리전문', '유품정리', '장식용섬유제품제조(종합)', '태국음식', '수상스키', '맞춤양복수탁제조', '포장용판지제조(기타)', '차량연료소매(기타)', '모바일기기수리', '육류', '농축수산물중개(기타)', '정신건강의학과', '타자기제조', '세계맥주전문점', '미술상담치료', '화장실.욕실공사', '석공예품제조', '음식점-마라탕', '무인숙박시스템', '전동보드판매.대여', '일어학원', '외의소매(기타)', '라면', '아울렛', '항공기제조(종합)', '장난감대여', '애견호텔', '헬스기구제조', '영화제작.배급(기타)', '재생재료도매(기타)', '의류대여', '중국전통마사지', '붙임머리', '석유정제재처리(기타)', '양식업(기타)', '가죽제조(기타)', '강화도어', '메이크업', '화덕피자전문', '택견도장', '청정기제조', '자연보존관리(종합)', '대지조성공사', '바닷가재요리', '이용학원', '휴대폰액세서리', '전자사전', '샤브샤브부페', '인형도매', '모형과학교재', '국제결혼상담', '셔츠.내의소매(기타)', '이동식화장실', '의약품도매(기타)', '애완동물도매', '화초.식물', '사주카페', '고주파밴딩제조', '구판장', '수제맥주', '수경재배', '휴대폰악세사리제조', '코드직물판매', '주짓수도장'], dtype=object)"
      ]
     },
     "execution_count": 218,
     "metadata": {},
     "output_type": "execute_result"
    }
   ],
   "source": [
    "df_close_region['INDUTY_NM'].unique()"
   ]
  },
  {
   "cell_type": "code",
   "execution_count": 232,
   "metadata": {},
   "outputs": [
    {
     "data": {
      "text/plain": [
       "INDUTY_NM\n",
       "한식         2985\n",
       "부동산        2120\n",
       "미용실         904\n",
       "치킨          886\n",
       "관리사무소       764\n",
       "건설업(종합)     681\n",
       "중국음식        651\n",
       "슈퍼마켓        607\n",
       "카페          597\n",
       "어린이집        584\n",
       "dtype: int64"
      ]
     },
     "execution_count": 232,
     "metadata": {},
     "output_type": "execute_result"
    }
   ],
   "source": [
    "df_close_region[df_close_region['DIVISION'] == 0].groupby('INDUTY_NM').size().sort_values(ascending=False)[:10]"
   ]
  }
 ],
 "metadata": {
  "kernelspec": {
   "display_name": "Python 3",
   "language": "python",
   "name": "python3"
  },
  "language_info": {
   "codemirror_mode": {
    "name": "ipython",
    "version": 3
   },
   "file_extension": ".py",
   "mimetype": "text/x-python",
   "name": "python",
   "nbconvert_exporter": "python",
   "pygments_lexer": "ipython3",
   "version": "3.8.5"
  }
 },
 "nbformat": 4,
 "nbformat_minor": 4
}
